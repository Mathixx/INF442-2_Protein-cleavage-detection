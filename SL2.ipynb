{
 "cells": [
  {
   "cell_type": "code",
   "execution_count": 1,
   "metadata": {},
   "outputs": [
    {
     "name": "stderr",
     "output_type": "stream",
     "text": [
      "/var/folders/wp/4cr2jl295bs4z4czxy_p6w5m0000gn/T/ipykernel_48092/1304881779.py:8: DeprecationWarning: \n",
      "Pyarrow will become a required dependency of pandas in the next major release of pandas (pandas 3.0),\n",
      "(to allow more performant data types, such as the Arrow string type, and better interoperability with other libraries)\n",
      "but was not found to be installed on your system.\n",
      "If this would cause problems for you,\n",
      "please provide us feedback at https://github.com/pandas-dev/pandas/issues/54466\n",
      "        \n",
      "  import pandas as pd\n",
      "/Users/mathiasperez/Documents/GitHub/442-2-Protein-cleavage/fonctionsSupervisedLearning2.py:132: SyntaxWarning: invalid escape sequence '\\ '\n",
      "  '''\n"
     ]
    }
   ],
   "source": [
    "###########################\n",
    "### MODULES NECESSAIRES ###\n",
    "###########################\n",
    "\n",
    "\n",
    "# Import the necessary libraries\n",
    "import numpy as np\n",
    "import pandas as pd\n",
    "import math\n",
    "import fonctionsSupervisedLearning2 as fsl2\n",
    "import seaborn as sns\n",
    "import matplotlib.pyplot as plt\n",
    "\n",
    "from sklearn import svm\n",
    "from sklearn.model_selection import train_test_split\n",
    "from sklearn.metrics import accuracy_score\n",
    "from sklearn.preprocessing import LabelEncoder\n",
    "from sklearn import svm\n",
    "\n",
    "from auxFonctions import AminoAcid"
   ]
  },
  {
   "cell_type": "code",
   "execution_count": 2,
   "metadata": {},
   "outputs": [],
   "source": [
    "# Read data from a file into a list of entries\n",
    "with open('data/SIG_13.red', 'r') as file:\n",
    "    entries = file.read().split('\\n   ')"
   ]
  },
  {
   "cell_type": "code",
   "execution_count": 3,
   "metadata": {},
   "outputs": [],
   "source": [
    "##############################\n",
    "## RECUPERATION DES DONNÉES ##\n",
    "##############################\n",
    "\n",
    "# Process each entry\n",
    "processed_entries = [fsl2.process_entry(entry) for entry in entries]\n",
    "\n",
    "# Create a DataFrame\n",
    "df = pd.DataFrame(processed_entries)\n",
    "\n",
    "# Get the position of the cleavage site\n",
    "cleavage_site_position = df['Annotation'].apply(lambda x: x.find('C'))\n",
    "\n",
    "# Split the primary structure into a list of amino acids\n",
    "amino_acid_seq = df['Primary Structure'].apply(lambda x: list(x))"
   ]
  },
  {
   "cell_type": "markdown",
   "metadata": {},
   "source": [
    "## Traitement des données"
   ]
  },
  {
   "cell_type": "markdown",
   "metadata": {},
   "source": [
    "Put words in vector and vice versa"
   ]
  },
  {
   "cell_type": "code",
   "execution_count": 4,
   "metadata": {},
   "outputs": [],
   "source": [
    "df_exploitable = fsl2.convert_df_to_vectors2(df)"
   ]
  },
  {
   "cell_type": "code",
   "execution_count": 5,
   "metadata": {},
   "outputs": [],
   "source": [
    "n = 15\n",
    "p,q = 13, 2  # p+q = 15"
   ]
  },
  {
   "cell_type": "code",
   "execution_count": 6,
   "metadata": {},
   "outputs": [],
   "source": [
    "# Create a DataFrame to store, for each primary structure, the neihborhood of the cleavage site\n",
    "# The neighborhood is defined as the word of length p+q starting p letters before the cleavage site\n",
    "correct_neighborhood = pd.Series()\n",
    "for i, seq in amino_acid_seq.items():\n",
    "    correct_neighborhood[i] = ''.join(seq[cleavage_site_position[i]-p:cleavage_site_position[i]+q])"
   ]
  },
  {
   "cell_type": "code",
   "execution_count": 7,
   "metadata": {},
   "outputs": [],
   "source": [
    "# Create a DataFrame to store, for each primary structure, a sequence that is not the neighborhood of the cleavage site\n",
    "incorrect_neighborhood = pd.Series()\n",
    "decalage  = [1,2,3,4,5, -1,-2,-3,-4, -5]\n",
    "for i, seq in amino_acid_seq.items():\n",
    "    dec = np.random.choice(decalage)\n",
    "    dec = 0 if cleavage_site_position[i]-13 - dec < 0 else dec\n",
    "    incorrect_neighborhood[i] = ''.join(seq[cleavage_site_position[i]-p-dec:cleavage_site_position[i]+q-dec])"
   ]
  },
  {
   "cell_type": "code",
   "execution_count": 8,
   "metadata": {},
   "outputs": [
    {
     "name": "stdout",
     "output_type": "stream",
     "text": [
      "[0. 0. 0. 0. 0. 0. 0. 0. 0. 0. 0. 0. 0. 0. 0. 1. 0. 0. 0. 0. 0. 0. 0. 0.\n",
      " 0. 0. 0. 0. 0. 0. 0. 0. 0. 0. 0. 0. 0. 0. 0. 0. 0. 0. 0. 0. 0. 1. 0. 0.\n",
      " 0. 0. 0. 0. 1. 0. 0. 0. 0. 0. 0. 0. 0. 0. 0. 0. 0. 0. 0. 0. 0. 0. 0. 0.\n",
      " 0. 0. 0. 0. 0. 0. 0. 0. 0. 0. 0. 0. 0. 0. 0. 0. 0. 0. 0. 0. 0. 0. 0. 0.\n",
      " 0. 0. 0. 1. 0. 0. 0. 0. 0. 0. 0. 0. 0. 0. 0. 0. 0. 0. 0. 1. 0. 0. 0. 0.\n",
      " 0. 0. 0. 0. 0. 0. 0. 0. 0. 0. 0. 0. 0. 0. 0. 0. 0. 0. 0. 0. 0. 1. 0. 0.\n",
      " 0. 0. 0. 0. 0. 0. 0. 0. 0. 0. 0. 0. 0. 0. 0. 0. 0. 0. 0. 0. 0. 0. 0. 0.\n",
      " 0. 0. 0. 0. 0. 0. 0. 0. 0. 1. 0. 0. 0. 0. 0. 0. 0. 0. 0. 0. 0. 0. 0. 0.\n",
      " 0. 1. 0. 0. 0. 0. 0. 0. 0. 0. 0. 0. 0. 0. 0. 0. 1. 0. 0. 0. 0. 0. 0. 0.\n",
      " 0. 0. 0. 0. 0. 0. 0. 0. 0. 0. 0. 0. 0. 0. 0. 0. 0. 0. 0. 0. 0. 0. 0. 0.\n",
      " 0. 0. 0. 0. 0. 0. 0. 0. 0. 0. 0. 0. 0. 0. 0. 1. 0. 0. 0. 0. 0. 0. 0. 0.\n",
      " 0. 0. 0. 0. 0. 0. 0. 0. 0. 0. 0. 0. 0. 0. 1. 0. 0. 0. 0. 0. 0. 0. 0. 0.\n",
      " 0. 0. 0. 0. 0. 0. 0. 0. 0. 0. 0. 0. 0. 0. 0. 0. 0. 0. 0. 1. 0. 0. 0. 0.\n",
      " 1. 0. 0. 0. 0. 0. 0. 0. 0. 0. 0. 0. 0. 0. 0. 0. 0. 0. 0. 0. 0. 0. 0. 0.\n",
      " 0. 0. 1. 0. 0. 0. 0. 0. 0. 0. 0. 0. 0. 0. 0. 0. 0. 0. 0. 0. 0. 0. 0. 0.\n",
      " 0. 0. 0. 0. 0. 0. 0. 0. 0. 0. 0. 0. 0. 0. 0. 0. 0. 0. 0. 0. 0. 1. 0. 0.\n",
      " 0. 0. 0. 0. 0. 0.]\n"
     ]
    }
   ],
   "source": [
    "#print(correct_neighborhood.get(4))\n",
    "print(fsl2.word_to_vector(incorrect_neighborhood.get(52)))"
   ]
  },
  {
   "cell_type": "markdown",
   "metadata": {},
   "source": [
    "## Train the models"
   ]
  },
  {
   "cell_type": "code",
   "execution_count": null,
   "metadata": {},
   "outputs": [],
   "source": []
  },
  {
   "cell_type": "code",
   "execution_count": 9,
   "metadata": {},
   "outputs": [
    {
     "name": "stdout",
     "output_type": "stream",
     "text": [
      "570\n",
      "1126\n",
      "0\n"
     ]
    }
   ],
   "source": [
    "X_train, X_test, bool_train, bool_test = fsl2.test_train_split_random_pos2(df_exploitable, 15, 13, random_state=42)\n",
    "\n",
    "count_true = 0\n",
    "count_all = 0\n",
    "for t in bool_train:\n",
    "    count_all += 1\n",
    "    if t:\n",
    "        count_true += 1\n",
    "\n",
    "print(count_true)\n",
    "print(count_all)\n",
    "print(bool_train[0])"
   ]
  },
  {
   "cell_type": "code",
   "execution_count": 11,
   "metadata": {},
   "outputs": [],
   "source": [
    "#svm_model_nei, accuracy_nei = fsl2.create_model2(15, df_exploitable, random_state=42, nb_letters = 26, kernel_neighbor= 'rbf',C_nei = 1)\n",
    "\n",
    "\n",
    "C_list = [0.1,1,2, 5]\n",
    "kernel_list = ['linear', 'rbf', 'sigmoid', 'poly']\n",
    "p_list = [3, 5, 7, 9, 11, 13]\n",
    "q_list = [2, 4, 6, 8]\n",
    "results = []\n",
    "\n",
    "for C_nei in C_list:\n",
    "    for kernel_nei in kernel_list:\n",
    "        for p in p_list:\n",
    "            for q in q_list:\n",
    "                n = p+q\n",
    "                correct_neighborhood = pd.Series()\n",
    "                for i, seq in amino_acid_seq.items():   \n",
    "                    correct_neighborhood[i] = ''.join(seq[cleavage_site_position[i]-p:cleavage_site_position[i]+q])\n",
    "\n",
    "                incorrect_neighborhood = pd.Series()\n",
    "                decalage  = [1,2,3,4,5, -1,-2,-3,-4, -5]\n",
    "                for i, seq in amino_acid_seq.items():\n",
    "                    dec = np.random.choice(decalage)\n",
    "                    dec = 0 if cleavage_site_position[i]-p - dec < 0 else dec\n",
    "                    incorrect_neighborhood[i] = ''.join(seq[cleavage_site_position[i]-p-dec:cleavage_site_position[i]+q-dec])\n",
    "\n",
    "                svm_model_nei, accuracy_nei = fsl2.create_model2(n, p, df_exploitable, kernel_nei, C_nei)\n",
    "\n",
    "                count_fn = 0\n",
    "                for i in range(0, len(correct_neighborhood)):\n",
    "                    x = np.array([fsl2.word_to_vector(correct_neighborhood.get(i))])\n",
    "                    test = svm_model_nei.predict(x)\n",
    "                    if (test == 0):\n",
    "                        count_fn += 1\n",
    "                count_fp = 0\n",
    "                for i in range(0, len(incorrect_neighborhood)):\n",
    "                    x = np.array([fsl2.word_to_vector(incorrect_neighborhood.get(i))])\n",
    "                    test = svm_model_nei.predict(x)\n",
    "                    if (test == 1):\n",
    "                        count_fp += 1\n",
    "            \n",
    "                results.append((C_nei, kernel_nei, p, q, accuracy_nei, count_fn/len(correct_neighborhood), count_fp/len(incorrect_neighborhood)))\n",
    "\n",
    "results_df = pd.DataFrame(results, columns=['C','Kernel', 'p', 'q', 'Accuracy', 'False negative rate', 'False positive rate'])\n",
    "results_df.to_csv('results2.csv', index=True)\n"
   ]
  },
  {
   "cell_type": "code",
   "execution_count": 12,
   "metadata": {},
   "outputs": [
    {
     "name": "stdout",
     "output_type": "stream",
     "text": [
      "C                           1.0\n",
      "Kernel                  sigmoid\n",
      "p                            13\n",
      "q                             2\n",
      "Accuracy               0.914894\n",
      "False negative rate     0.12571\n",
      "False positive rate    0.308949\n",
      "Name: 164, dtype: object\n"
     ]
    }
   ],
   "source": [
    "results_df = pd.read_csv('results2.csv', index_col=0)\n",
    "\n",
    "best_results = results_df.loc[(results_df['Accuracy']).idxmax()]\n",
    "print(best_results)"
   ]
  },
  {
   "cell_type": "code",
   "execution_count": null,
   "metadata": {},
   "outputs": [],
   "source": [
    "# Load the results from CSV\n",
    "results_df = pd.read_csv('results2.csv')\n",
    "\n",
    "# Setting the aesthetic style of the plots\n",
    "sns.set(style=\"whitegrid\")\n",
    "\n",
    "# Create a series of plots\n",
    "def plot_results(data, x, y, hue, col=None, kind='line', col_wrap=4, height=3):\n",
    "    \"\"\"\n",
    "    A function to create a FacetGrid plot for the specified parameters.\n",
    "    \"\"\"\n",
    "    g = sns.relplot(\n",
    "        data=data,\n",
    "        x=x, y=y, hue=hue, \n",
    "        col=col, col_wrap=col_wrap,\n",
    "        kind=kind,\n",
    "        height=height,\n",
    "        facet_kws={'sharey': False, 'sharex': False}\n",
    "    )\n",
    "    g.set_axis_labels(x, f\"{y} Rate\")\n",
    "    g.set_titles(\"{col_name}\")\n",
    "    g.add_legend()\n",
    "    plt.show()\n",
    "\n",
    "# Plot accuracy by C parameter for each kernel type\n",
    "plot_results(results_df, x='C_nei', y='accuracy_nei', hue='kernel_nei', col='kernel_nei', kind='line')\n",
    "\n",
    "# Plot false negative rate by C parameter for each kernel type\n",
    "plot_results(results_df, x='C_nei', y='false negative', hue='kernel_nei', col='kernel_nei', kind='line')\n",
    "\n",
    "# Plot false positive rate by C parameter for each kernel type\n",
    "plot_results(results_df, x='C_nei', y='false positive', hue='kernel_nei', col='kernel_nei', kind='line')\n",
    "\n",
    "# Additional plots can be created for other relationships\n",
    "# For example, how the accuracy changes with p and q\n",
    "plot_results(results_df, x='p', y='accuracy_nei', hue='q', col='kernel_nei', kind='line', col_wrap=2)\n"
   ]
  }
 ],
 "metadata": {
  "kernelspec": {
   "display_name": "base",
   "language": "python",
   "name": "python3"
  },
  "language_info": {
   "codemirror_mode": {
    "name": "ipython",
    "version": 3
   },
   "file_extension": ".py",
   "mimetype": "text/x-python",
   "name": "python",
   "nbconvert_exporter": "python",
   "pygments_lexer": "ipython3",
   "version": "3.12.2"
  }
 },
 "nbformat": 4,
 "nbformat_minor": 2
}
