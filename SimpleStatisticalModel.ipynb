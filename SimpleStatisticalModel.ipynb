{
 "cells": [
  {
   "cell_type": "markdown",
   "metadata": {},
   "source": [
    "Over a set of N sequences, with a known cleavage site for each, one can first count c(a, i), the number of \n",
    "occurrences of each amino acid a ∈ A, at every position i ∈ {−p, ..., q − 1}, relative to the corresponding \n",
    "cleavage site. Then, for each a and i, let define f(a,i) = c(a,i)/N, the observed frequency of amino acid a at the \n",
    "relative position i.\n",
    "\n",
    "In a same way, by counting over the whole length of given sequences, one can compute the observed general background \n",
    "frequency g(a) of amino acid a in the given set, regardless of the position. However, it must be noticed that the very \n",
    "first amino acid at the beginning of a sequence is almost always an M, because it corresponds to the transcription of \n",
    "the start codon. Also, one will not count letters on this first position to avoid a bias.\n",
    "\n",
    "These frequencies will be used as estimated probabilities to compute the probability of a given word to be \n",
    "located at a cleavage site, under an independent model. We rather use the logarithm of probabilities to go on \n",
    "additive calculations.\n",
    "\n",
    "Then, ∀a ∈ A,∀i ∈ {-p,...,q-1}, we define s(a,i) = log(f(a,i)) - log(g(a)). Also, as zero\n",
    "counts may occur, pseudo-counts [3] must be used. Finally, for any word w = a0a1 · · · a(p+q−1),\n",
    "the q − 1 score defined as sum for i in [-p, ..,q-1] of s(a(p+i), i) may tell whether w is the neighborhood of a \n",
    "cleavage i=−p\n",
    "site or not. A simple thresholding (to be tuned) is then enough to define a simple binary classifier."
   ]
  },
  {
   "cell_type": "markdown",
   "metadata": {},
   "source": [
    "## Import necessarry dependencies"
   ]
  },
  {
   "cell_type": "code",
   "execution_count": 1,
   "metadata": {},
   "outputs": [
    {
     "name": "stderr",
     "output_type": "stream",
     "text": [
      "/var/folders/wp/4cr2jl295bs4z4czxy_p6w5m0000gn/T/ipykernel_16057/407760855.py:1: DeprecationWarning: \n",
      "Pyarrow will become a required dependency of pandas in the next major release of pandas (pandas 3.0),\n",
      "(to allow more performant data types, such as the Arrow string type, and better interoperability with other libraries)\n",
      "but was not found to be installed on your system.\n",
      "If this would cause problems for you,\n",
      "please provide us feedback at https://github.com/pandas-dev/pandas/issues/54466\n",
      "        \n",
      "  import pandas as pd\n"
     ]
    }
   ],
   "source": [
    "import pandas as pd\n",
    "import math\n",
    "from auxFonctions import AminoAcid"
   ]
  },
  {
   "cell_type": "markdown",
   "metadata": {},
   "source": [
    "## Processing the data"
   ]
  },
  {
   "cell_type": "code",
   "execution_count": 2,
   "metadata": {},
   "outputs": [],
   "source": [
    "# Read data from a file into a list of entries\n",
    "with open('/Users/mathiasperez/Documents/GitHub/442-2-Protein-cleavage/data/SIG_13.red', 'r') as file:\n",
    "    entries = file.read().split('\\n   ')\n",
    "\n",
    "\n",
    "# Define a function to process each entry in the data file\n",
    "def process_entry(entry):\n",
    "    lines = entry.split('\\n')\n",
    "    protein_id, primary_structure, annotation = lines\n",
    "    return {\n",
    "        'Protein ID': protein_id.split()[1],\n",
    "        'Primary Structure': primary_structure,\n",
    "        'Annotation': annotation\n",
    "    }\n",
    "\n",
    "\n",
    "# Process each entry\n",
    "processed_entries = [process_entry(entry) for entry in entries]\n",
    "\n",
    "# Create a DataFrame\n",
    "df = pd.DataFrame(processed_entries)\n",
    "\n",
    "# Now you can analyze the DataFrame as needed"
   ]
  },
  {
   "cell_type": "markdown",
   "metadata": {},
   "source": [
    "## Get important information our of entries "
   ]
  },
  {
   "cell_type": "code",
   "execution_count": 3,
   "metadata": {},
   "outputs": [
    {
     "name": "stdout",
     "output_type": "stream",
     "text": [
      "Average position of the cleavage site:\n",
      "24.04971590909091\n",
      "\n",
      "\n",
      "The extremum position of the cleavage site:\n",
      "13\n",
      "90\n",
      "The distance from cleavage site to the C-terminal part of the amino-sequence:\n",
      "\n",
      "\n"
     ]
    }
   ],
   "source": [
    "# Get the position of the cleavage site\n",
    "cleavage_site_position = df['Annotation'].apply(lambda x: x.find('C'))\n",
    "#print(\"Position of the cleavage site:\")\n",
    "#print(cleavage_site_position)\n",
    "print(\"Average position of the cleavage site:\")\n",
    "print(cleavage_site_position.mean())\n",
    "print(\"\\n\")\n",
    "\n",
    "print(\"The extremum position of the cleavage site:\")\n",
    "print(cleavage_site_position.min())\n",
    "print(cleavage_site_position.max())\n",
    "\n",
    "print(\"The distance from cleavage site to the C-terminal part of the amino-sequence:\")\n",
    "#there is always 30 amino-acids after the cleavage site\n",
    "print(\"\\n\")\\\n",
    "\n",
    "# with have then p = [13, 1] and q = [1, 30]"
   ]
  },
  {
   "cell_type": "code",
   "execution_count": 5,
   "metadata": {},
   "outputs": [
    {
     "name": "stdout",
     "output_type": "stream",
     "text": [
      "Neighborhood of the cleavage site:\n",
      "IARHQQRQ\n"
     ]
    }
   ],
   "source": [
    "# Split the primary structure into a list of amino acids\n",
    "amino_acid_seq = df['Primary Structure'].apply(lambda x: list(x))\n",
    "\n",
    "# Create a DataFrame to store, for each primary structure, the neihborhood of the cleavage site\n",
    "# The neighborhood is defined as the word of length p+q starting p letters before the cleavage site\n",
    "correct_neighborhood = pd.Series(index=amino_acid_seq.index, dtype=str)\n",
    "for i, seq in amino_acid_seq.items():\n",
    "    correct_neighborhood[i] = ''.join(seq[cleavage_site_position[i]-2:cleavage_site_position[i]+6])\n",
    "\n",
    "print(\"Neighborhood of the cleavage site:\")\n",
    "print(correct_neighborhood.get(0))\n",
    "\n",
    "\n",
    "# for each amino acid in the sequence, replace it with the corresponding AminoAcid object\n",
    "amino_acid_seq = amino_acid_seq.apply(lambda x: [AminoAcid(aa) for aa in x])"
   ]
  },
  {
   "cell_type": "markdown",
   "metadata": {},
   "source": [
    "## Traitement des données \n",
    "\n",
    "Over a set of N sequences, with a known cleavage site for each, one can first count c(a, i), \n",
    "the number of occurrences of each amino acid a ∈ A, at every position i ∈ {−p, ..., q − 1}, \n",
    "relative to the corresponding cleavage site. \n",
    "We are facing a binary classification problem. \n",
    "Given any whole protein sequence (ai)i=0,...,l−1, and any position j, where p ≤ j ≤ l−q, \n",
    "the word aj−paj−p+1 · · · aj−1aj · · · aj+q−1 ∈ Ap+q should be enough to decide \n",
    "whether the bond at position j, between aj−1 and aj, is a cleavage site or not.\n",
    "\n",
    "Then, for each a and i, let define f(a,i) = c(a,i)/N, \n",
    "the observed frequency of amino acid a at the relative position i."
   ]
  },
  {
   "cell_type": "code",
   "execution_count": 6,
   "metadata": {},
   "outputs": [],
   "source": [
    "#Parametres de l'étude\n",
    "p = 2\n",
    "q = 6\n",
    "\n",
    "# Create a DataFrame to store the counts of each amino acid at every position relative to the cleavage site\n",
    "#the cleavage site is between to aminoacids, so cleavage_site_position is the position of the first amino acid after the cleavge site\n",
    "#So i need to create a dataframe with columns from -p to q without 0\n",
    "amino_acid_counts = pd.DataFrame(0, index=AminoAcid.properties.keys(), columns=range(-p, q))\n",
    "amino_acid_freqs = pd.DataFrame(0.0, index=AminoAcid.properties.keys(), columns=range(-p, q)) #f(a,i)\n",
    "amino_acid_pseudo_counts = pd.DataFrame(0, index=AminoAcid.properties.keys(), columns=range(-p, q)) #g(a)\n",
    "amino_acid_s_values = pd.DataFrame(0.0, index=AminoAcid.properties.keys(), columns=range(-p, q)) #s(a,i)\n",
    "\n",
    "\n",
    "# Count the occurrences of each amino acid at every position relative to the cleavage site\n",
    "\n",
    "for i, seq in amino_acid_seq.items():\n",
    "    for j, aa in enumerate(seq):\n",
    "        position = j - cleavage_site_position[i] #position of the amino acid relative to the cleavage site\n",
    "        if position in amino_acid_counts.columns:\n",
    "            amino_acid_counts.loc[aa.code, position] += 1\n",
    "\n",
    "# Add pseudo-counts to avoid zero counts here pseudocount parameter is 1/len(df)\n",
    "amino_acid_pseudo_counts = amino_acid_counts + 1\n",
    "\n",
    "# Print the results\n",
    "#print(\"Occurrences of each amino acid at every position relative to the cleavage site:\")\n",
    "#print(amino_acid_pseudo_counts)\n",
    "\n",
    "# Compute the observed frequency of each amino acid at the relative position (using pseudo-counts)\n",
    "for i in amino_acid_counts.index:\n",
    "    for j in amino_acid_counts.columns:\n",
    "        amino_acid_freqs.loc[i, j] = amino_acid_pseudo_counts.loc[i, j] / len(df)\n",
    "\n",
    "# Compute the general background frequency of each amino acid\n",
    "general_background_frequency = amino_acid_freqs.mean(axis=1)\n",
    "\n",
    "# Compute the s value of each amino acid at every position\n",
    "for i in amino_acid_counts.index:\n",
    "    for j in amino_acid_counts.columns:\n",
    "        amino_acid_s_values.loc[i, j] = math.log(amino_acid_freqs.loc[i, j]) - math.log(general_background_frequency[i])"
   ]
  },
  {
   "cell_type": "markdown",
   "metadata": {},
   "source": [
    "## Calcul du score d'un mot :\n",
    "\n",
    "Finally, for any word w = a0a1 · · · ap+q−1,\n",
    "The q − 1 score defined as Pq−1 s(ap+i, i) may tell whether w is the neighborhood of a cleavage i=−p site or not."
   ]
  },
  {
   "cell_type": "code",
   "execution_count": 7,
   "metadata": {},
   "outputs": [
    {
     "name": "stdout",
     "output_type": "stream",
     "text": [
      "-1.7602728455700314\n"
     ]
    },
    {
     "data": {
      "text/plain": [
       "-2.944865582502577"
      ]
     },
     "execution_count": 7,
     "metadata": {},
     "output_type": "execute_result"
    }
   ],
   "source": [
    "# Define the function computing the q-1 score for a given word\n",
    "def q_minus_1_score(word):\n",
    "    return sum([amino_acid_s_values.loc[aa, i-p] for i, aa in enumerate(word)])\n",
    "\n",
    "#A REDEFINIR EN FONCTION DES RESULTATS OBTENUS\n",
    "threshold = 1.2715345845764872 - 2*1.5159037150732593\n",
    "print(threshold)\n",
    "\n",
    "#A simple thresholding (to be tuned) is then enough to define a simple binary classifier.\n",
    "def is_cleavage_neighborhood(score):\n",
    "    return score > threshold\n",
    "\n",
    "q_minus_1_score('AAAAAAAA')"
   ]
  },
  {
   "cell_type": "markdown",
   "metadata": {},
   "source": [
    "## TEST DES RESULTATS OBTENUS"
   ]
  },
  {
   "cell_type": "code",
   "execution_count": 8,
   "metadata": {},
   "outputs": [
    {
     "name": "stdout",
     "output_type": "stream",
     "text": [
      "Score of the correct neighborhoods:\n",
      "0       0.405416\n",
      "1       1.402087\n",
      "2       1.848045\n",
      "3       2.103103\n",
      "4       1.964889\n",
      "          ...   \n",
      "1403    3.537215\n",
      "1404    1.163552\n",
      "1405    3.050840\n",
      "1406    2.031554\n",
      "1407    1.291033\n",
      "Length: 1408, dtype: float64\n",
      "\n",
      "\n",
      "Mean score of the correct neighborhoods:\n",
      "1.2715345845764872\n",
      "\n",
      "\n",
      "Standard deviation of the score of the correct neighborhoods:\n",
      "1.5159037150732593\n",
      "Min and max values of the correct neighboorhoods score :\n",
      "-5.410270058115765\n",
      "4.481498528633624\n",
      "False negative out of 1005 entries:\n",
      "60\n"
     ]
    }
   ],
   "source": [
    "# To obtain the score of the correct neighborhoods, we apply the q-1 score function to each neighborhood\n",
    "#correct_neighborhood = correct_neighborhood.apply(lambda x: [AminoAcid(aa) for aa in x])\n",
    "correct_neigboorhood_score = correct_neighborhood.apply(q_minus_1_score)\n",
    "\n",
    "print(\"Score of the correct neighborhoods:\")\n",
    "print(correct_neigboorhood_score)\n",
    "print(\"\\n\")\n",
    "\n",
    "print(\"Mean score of the correct neighborhoods:\")\n",
    "print(correct_neigboorhood_score.mean())\n",
    "print(\"\\n\")\n",
    "\n",
    "print(\"Standard deviation of the score of the correct neighborhoods:\")\n",
    "print(correct_neigboorhood_score.std())\n",
    "\n",
    "print(\"Min and max values of the correct neighboorhoods score :\")\n",
    "print(correct_neigboorhood_score.min())\n",
    "print(correct_neigboorhood_score.max())\n",
    "\n",
    "#We now test, with the updated threshold, the performance of the classifier on the training set\n",
    "# Treshold = mean - std\n",
    "false_positives = correct_neigboorhood_score[correct_neigboorhood_score < threshold].count()\n",
    "print(\"False negative out of 1005 entries:\")\n",
    "print(false_positives)\n",
    "\n",
    "\n",
    "\n"
   ]
  }
 ],
 "metadata": {
  "kernelspec": {
   "display_name": "Python 3",
   "language": "python",
   "name": "python3"
  },
  "language_info": {
   "codemirror_mode": {
    "name": "ipython",
    "version": 3
   },
   "file_extension": ".py",
   "mimetype": "text/x-python",
   "name": "python",
   "nbconvert_exporter": "python",
   "pygments_lexer": "ipython3",
   "version": "3.12.2"
  }
 },
 "nbformat": 4,
 "nbformat_minor": 2
}
