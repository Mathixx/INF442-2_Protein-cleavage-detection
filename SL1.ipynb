{
 "cells": [
  {
   "cell_type": "code",
   "execution_count": 1,
   "metadata": {},
   "outputs": [
    {
     "name": "stderr",
     "output_type": "stream",
     "text": [
      "/var/folders/wp/4cr2jl295bs4z4czxy_p6w5m0000gn/T/ipykernel_94175/735377492.py:8: DeprecationWarning: \n",
      "Pyarrow will become a required dependency of pandas in the next major release of pandas (pandas 3.0),\n",
      "(to allow more performant data types, such as the Arrow string type, and better interoperability with other libraries)\n",
      "but was not found to be installed on your system.\n",
      "If this would cause problems for you,\n",
      "please provide us feedback at https://github.com/pandas-dev/pandas/issues/54466\n",
      "        \n",
      "  import pandas as pd\n",
      "/Users/mathiasperez/Documents/GitHub/442-2-Protein-cleavage/fonctionsSupervisedLearning1.py:124: SyntaxWarning: invalid escape sequence '\\ '\n",
      "  '''\n"
     ]
    }
   ],
   "source": [
    "###########################\n",
    "### MODULES NECESSAIRES ###\n",
    "###########################\n",
    "\n",
    "\n",
    "# Import the necessary libraries\n",
    "import numpy as np\n",
    "import pandas as pd\n",
    "import math\n",
    "import fonctionsSupervisedLearning1 as fsl\n",
    "\n",
    "from sklearn import svm\n",
    "from sklearn.model_selection import train_test_split\n",
    "from sklearn.metrics import accuracy_score\n",
    "from sklearn.preprocessing import LabelEncoder\n",
    "from sklearn import svm\n",
    "\n",
    "from auxFonctions import AminoAcid"
   ]
  },
  {
   "cell_type": "code",
   "execution_count": 2,
   "metadata": {},
   "outputs": [],
   "source": [
    "# Read data from a file into a list of entries\n",
    "with open('data/SIG_13.red', 'r') as file:\n",
    "    entries = file.read().split('\\n   ')"
   ]
  },
  {
   "cell_type": "code",
   "execution_count": 3,
   "metadata": {},
   "outputs": [],
   "source": [
    "##############################\n",
    "## RECUPERATION DES DONNÉES ##\n",
    "##############################\n",
    "\n",
    "\n",
    "# Process each entry\n",
    "processed_entries = [fsl.process_entry(entry) for entry in entries]\n",
    "\n",
    "# Create a DataFrame\n",
    "df = pd.DataFrame(processed_entries)\n",
    "\n",
    "# Get the position of the cleavage site\n",
    "cleavage_site_position = df['Annotation'].apply(lambda x: x.find('C'))\n",
    "\n",
    "# Split the primary structure into a list of amino acids\n",
    "amino_acid_seq = df['Primary Structure'].apply(lambda x: list(x))"
   ]
  },
  {
   "cell_type": "markdown",
   "metadata": {},
   "source": [
    "## Traitement des données"
   ]
  },
  {
   "cell_type": "markdown",
   "metadata": {},
   "source": [
    "Put words in vector and vice versa"
   ]
  },
  {
   "cell_type": "code",
   "execution_count": 4,
   "metadata": {},
   "outputs": [],
   "source": [
    "df_exploitable = fsl.convert_df_to_vectors(df)"
   ]
  },
  {
   "cell_type": "code",
   "execution_count": 5,
   "metadata": {},
   "outputs": [],
   "source": [
    "n = 17  # length of the subsequence\n",
    "svm_model_in = svm.SVC(kernel='rbf', C=1, random_state=42)\n",
    "\n",
    "svm_model_pos = svm.SVC(kernel='linear', C=1, random_state=42)\n",
    "\n",
    "\n"
   ]
  },
  {
   "cell_type": "markdown",
   "metadata": {},
   "source": [
    "Train"
   ]
  },
  {
   "cell_type": "code",
   "execution_count": 11,
   "metadata": {},
   "outputs": [],
   "source": [
    "svm_model_in, svm_model_pos, accuracy_in, accuracy_pos = fsl.create_model(12, df_exploitable, random_state=42, nb_letters = 26, kernel_in = 'rbf', kernel_pos = 'linear', C_in = 1, C_pos = 1)\n",
    "\n",
    "# df_exploitable_100 = df_exploitable.iloc[:,1:100]\n",
    "\n",
    "C_list = [0.1,1,2]\n",
    "kernel_list = ['linear', 'rbf', 'sigmoid', 'poly']\n",
    "n_list = [7, 12, 17]\n",
    "results = []\n",
    "\n",
    "for C_in in C_list:\n",
    "    for C_pos in C_list:\n",
    "        for kernel_in in kernel_list:\n",
    "            for kernel_pos in kernel_list:\n",
    "                for n in n_list:\n",
    "                    svm_model_in, svm_model_pos, accuracy_in, accuracy_pos = fsl.create_model(n, df_exploitable, random_state=42, nb_letters = 26, kernel_in = kernel_in, kernel_pos = kernel_pos, C_in = C_in, C_pos = C_pos)\n",
    "                    results.append((C_in, C_pos, kernel_in, kernel_pos, n, accuracy_in, accuracy_pos))\n",
    "\n",
    "results_df = pd.DataFrame(results, columns=['C_in', 'C_pos', 'kernel_in', 'kernel_pos', 'n', 'accuracy_in', 'accuracy_pos'])\n",
    "results_df.to_csv('results.csv', index=False)\n"
   ]
  },
  {
   "cell_type": "code",
   "execution_count": 12,
   "metadata": {},
   "outputs": [
    {
     "name": "stdout",
     "output_type": "stream",
     "text": [
      "C_in                 1.0\n",
      "C_pos                0.1\n",
      "kernel_in        sigmoid\n",
      "kernel_pos        linear\n",
      "n                      7\n",
      "accuracy_in     0.836879\n",
      "accuracy_pos    0.673913\n",
      "Name: 168, dtype: object\n"
     ]
    }
   ],
   "source": [
    "best_results = results_df.loc[(results_df['accuracy_in']*results_df['accuracy_pos']).idxmax()]\n",
    "print(best_results)"
   ]
  },
  {
   "cell_type": "code",
   "execution_count": 8,
   "metadata": {},
   "outputs": [],
   "source": [
    "svm_model_in, svm_model_pos, accuracy_in, accuracy_pos = fsl.create_model(17, df_exploitable, random_state=42, nb_letters = 26, kernel_in = best_results['kernel_in'], kernel_pos = best_results['kernel_pos'], C_in = best_results['C_in'], C_pos = best_results['C_pos'])\n",
    "\n",
    "# svm_model_in.predict(fsl.word_to_vector('LTDACFI').tolist())"
   ]
  },
  {
   "cell_type": "code",
   "execution_count": 9,
   "metadata": {},
   "outputs": [
    {
     "name": "stdout",
     "output_type": "stream",
     "text": [
      "0.63\n"
     ]
    }
   ],
   "source": [
    "# print(fsl.find_cleavage(test, threshold = 0.1))\n",
    "pos_pred = np.array([fsl.find_cleavage(X,svm_model_in, svm_model_pos, threshold = 0.0, n= 17) for X in df_exploitable['P_Structure_vector'][:100]])\n",
    "\n",
    "in_pred = 1-np.isnan(pos_pred)\n",
    "\n",
    "pos_pred[in_pred == 0] = 0\n",
    "\n",
    "print(accuracy_score(df_exploitable[\"Annotation_pos\"][:100], pos_pred))"
   ]
  }
 ],
 "metadata": {
  "kernelspec": {
   "display_name": "base",
   "language": "python",
   "name": "python3"
  },
  "language_info": {
   "codemirror_mode": {
    "name": "ipython",
    "version": 3
   },
   "file_extension": ".py",
   "mimetype": "text/x-python",
   "name": "python",
   "nbconvert_exporter": "python",
   "pygments_lexer": "ipython3",
   "version": "3.12.2"
  }
 },
 "nbformat": 4,
 "nbformat_minor": 2
}
